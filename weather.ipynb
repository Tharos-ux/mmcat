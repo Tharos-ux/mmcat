{
 "cells": [
  {
   "cell_type": "markdown",
   "metadata": {},
   "source": [
    "# MMCAT : Markovian models for weather managing in TTRPG games\n",
    "\n",
    "This notebook aims to be a tentative to define a markovian chain model, with embedded subchains, to modelize weather in a way that feels natural.\n",
    "\n",
    "Given a starting state and probabilities for events, it computes the next weather condition (main chain) and weather effects associated to it (subchain).\n",
    "\n",
    "Those can be viewed in the form of a graph, that we will display for improved readability.\n",
    "\n",
    "This model will follow three main principles:\n",
    "+ it should be understandable\n",
    "+ it should be easy and ready to use\n",
    "+ it should be usable in any universe"
   ]
  },
  {
   "cell_type": "code",
   "execution_count": null,
   "metadata": {
    "tags": [
     "parameters"
    ]
   },
   "outputs": [],
   "source": []
  },
  {
   "cell_type": "code",
   "execution_count": null,
   "metadata": {
    "tags": [
     "imports"
    ]
   },
   "outputs": [],
   "source": []
  }
 ],
 "metadata": {
  "kernelspec": {
   "display_name": "Python 3",
   "language": "python",
   "name": "python3"
  },
  "language_info": {
   "codemirror_mode": {
    "name": "ipython",
    "version": 3
   },
   "file_extension": ".py",
   "mimetype": "text/x-python",
   "name": "python",
   "nbconvert_exporter": "python",
   "pygments_lexer": "ipython3",
   "version": "3.10.10"
  }
 },
 "nbformat": 4,
 "nbformat_minor": 2
}
