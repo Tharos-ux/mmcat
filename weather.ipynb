{
 "cells": [
  {
   "cell_type": "markdown",
   "metadata": {},
   "source": [
    "# MMCAT : Markovian models for weather managing in TTRPG games\n",
    "\n",
    "This notebook aims to be a tentative to define a markovian chain model, with embedded subchains, to modelize weather in a way that feels natural.\n",
    "\n",
    "Given a starting state and probabilities for events, it computes the next weather condition (main chain) and weather effects associated to it (subchain).\n",
    "\n",
    "Those can be viewed in the form of a graph, that we will display for improved readability.\n",
    "\n",
    "This model will follow three main principles:\n",
    "+ it should be understandable\n",
    "+ it should be easy and ready to use\n",
    "+ it should be usable in any universe"
   ]
  },
  {
   "cell_type": "code",
   "execution_count": null,
   "metadata": {
    "tags": [
     "parameters"
    ]
   },
   "outputs": [],
   "source": []
  },
  {
   "cell_type": "code",
   "execution_count": null,
   "metadata": {
    "tags": [
     "imports"
    ]
   },
   "outputs": [],
   "source": []
  },
  {
   "cell_type": "markdown",
   "metadata": {},
   "source": [
    "First, we need to defina an object for our markov chain model:"
   ]
  },
  {
   "cell_type": "code",
   "execution_count": null,
   "metadata": {},
   "outputs": [],
   "source": [
    "from random import choice\n",
    "\n",
    "\n",
    "class MarkovNode:\n",
    "    def __init__(self, val: str, out_prob:float, markov_links: list[tuple], subchain) -> None:\n",
    "        self.value = val\n",
    "        self.out_prob = out_prob # Probability to call next when \n",
    "        self.sublevel = subchain\n",
    "        self.connexions, self.probabilities = [\n",
    "            a for a, _ in markov_links], [b for _, b in markov_links]\n",
    "\n",
    "    def __next__(self):\n",
    "        \"Returns the name of the next markov member to go to\"\n",
    "        next_markovian_member = choice(\n",
    "            self.connexions, weights=self.probabilities)\n",
    "        if isinstance(next_markovian_member, TreeStruct):\n",
    "            next_markovian_member = next_markovian_member.choice()\n",
    "        return next_markovian_member\n",
    "    \n",
    "    def get_current_state(self):\n",
    "        # Get the subchain current state\n",
    "        pass\n",
    "\n",
    "# We will simulate going out of a MarkovChain with a probability assigned to None\n",
    "\n",
    "\n",
    "class TreeStruct:\n",
    "\n",
    "    def __init__(self, if_true: MarkovNode, if_false: MarkovNode, cond: bool) -> None:\n",
    "        self.true = if_true\n",
    "        self.false = if_false\n",
    "        self.cond = cond\n",
    "\n",
    "    def choice(self):\n",
    "        return self.true if self.cond else self.false\n",
    "\n",
    "\n",
    "class HybridMarkovTree:\n",
    "\n",
    "    def __init__(self, markovian_members: list[MarkovNode | TreeStruct], ) -> None:\n",
    "        self.current_node: MarkovNode\n"
   ]
  }
 ],
 "metadata": {
  "kernelspec": {
   "display_name": "Python 3",
   "language": "python",
   "name": "python3"
  },
  "language_info": {
   "codemirror_mode": {
    "name": "ipython",
    "version": 3
   },
   "file_extension": ".py",
   "mimetype": "text/x-python",
   "name": "python",
   "nbconvert_exporter": "python",
   "pygments_lexer": "ipython3",
   "version": "3.10.10"
  }
 },
 "nbformat": 4,
 "nbformat_minor": 2
}
